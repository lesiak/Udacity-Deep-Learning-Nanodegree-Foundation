{
 "cells": [
  {
   "cell_type": "markdown",
   "metadata": {
    "collapsed": true,
    "deletable": true,
    "editable": true
   },
   "source": [
    "# Image Classification\n",
    "In this project, you'll classify images from the [CIFAR-10 dataset](https://www.cs.toronto.edu/~kriz/cifar.html).  The dataset consists of airplanes, dogs, cats, and other objects. You'll preprocess the images, then train a convolutional neural network on all the samples. The images need to be normalized and the labels need to be one-hot encoded.  You'll get to apply what you learned and build a convolutional, max pooling, dropout, and fully connected layers.  At the end, you'll get to see your neural network's predictions on the sample images.\n",
    "## Get the Data\n",
    "Run the following cell to download the [CIFAR-10 dataset for python](https://www.cs.toronto.edu/~kriz/cifar-10-python.tar.gz)."
   ]
  },
  {
   "cell_type": "code",
   "execution_count": 8,
   "metadata": {
    "collapsed": false,
    "deletable": true,
    "editable": true
   },
   "outputs": [
    {
     "name": "stdout",
     "output_type": "stream",
     "text": [
      "All files found!\n"
     ]
    }
   ],
   "source": [
    "\"\"\"\n",
    "DON'T MODIFY ANYTHING IN THIS CELL THAT IS BELOW THIS LINE\n",
    "\"\"\"\n",
    "from urllib.request import urlretrieve\n",
    "from os.path import isfile, isdir\n",
    "from tqdm import tqdm\n",
    "import problem_unittests as tests\n",
    "import tarfile\n",
    "\n",
    "cifar10_dataset_folder_path = 'cifar-10-batches-py'\n",
    "\n",
    "# Use Floyd's cifar-10 dataset if present\n",
    "floyd_cifar10_location = '/input/cifar-10/python.tar.gz'\n",
    "if isfile(floyd_cifar10_location):\n",
    "    tar_gz_path = floyd_cifar10_location\n",
    "else:\n",
    "    tar_gz_path = 'cifar-10-python.tar.gz'\n",
    "\n",
    "class DLProgress(tqdm):\n",
    "    last_block = 0\n",
    "\n",
    "    def hook(self, block_num=1, block_size=1, total_size=None):\n",
    "        self.total = total_size\n",
    "        self.update((block_num - self.last_block) * block_size)\n",
    "        self.last_block = block_num\n",
    "\n",
    "if not isfile(tar_gz_path):\n",
    "    with DLProgress(unit='B', unit_scale=True, miniters=1, desc='CIFAR-10 Dataset') as pbar:\n",
    "        urlretrieve(\n",
    "            'https://www.cs.toronto.edu/~kriz/cifar-10-python.tar.gz',\n",
    "            tar_gz_path,\n",
    "            pbar.hook)\n",
    "\n",
    "if not isdir(cifar10_dataset_folder_path):\n",
    "    with tarfile.open(tar_gz_path) as tar:\n",
    "        tar.extractall()\n",
    "        tar.close()\n",
    "\n",
    "\n",
    "tests.test_folder_path(cifar10_dataset_folder_path)"
   ]
  },
  {
   "cell_type": "markdown",
   "metadata": {
    "deletable": true,
    "editable": true
   },
   "source": [
    "## Explore the Data\n",
    "The dataset is broken into batches to prevent your machine from running out of memory.  The CIFAR-10 dataset consists of 5 batches, named `data_batch_1`, `data_batch_2`, etc.. Each batch contains the labels and images that are one of the following:\n",
    "* airplane\n",
    "* automobile\n",
    "* bird\n",
    "* cat\n",
    "* deer\n",
    "* dog\n",
    "* frog\n",
    "* horse\n",
    "* ship\n",
    "* truck\n",
    "\n",
    "Understanding a dataset is part of making predictions on the data.  Play around with the code cell below by changing the `batch_id` and `sample_id`. The `batch_id` is the id for a batch (1-5). The `sample_id` is the id for a image and label pair in the batch.\n",
    "\n",
    "Ask yourself \"What are all possible labels?\", \"What is the range of values for the image data?\", \"Are the labels in order or random?\".  Answers to questions like these will help you preprocess the data and end up with better predictions."
   ]
  },
  {
   "cell_type": "code",
   "execution_count": 9,
   "metadata": {
    "collapsed": false,
    "deletable": true,
    "editable": true
   },
   "outputs": [
    {
     "name": "stdout",
     "output_type": "stream",
     "text": [
      "\n",
      "Stats of batch 3:\n",
      "Samples: 10000\n",
      "Label Counts: {0: 994, 1: 1042, 2: 965, 3: 997, 4: 990, 5: 1029, 6: 978, 7: 1015, 8: 961, 9: 1029}\n",
      "First 20 Labels: [8, 5, 0, 6, 9, 2, 8, 3, 6, 2, 7, 4, 6, 9, 0, 0, 7, 3, 7, 2]\n",
      "\n",
      "Example of Image 158:\n",
      "Image - Min Value: 10 Max Value: 248\n",
      "Image - Shape: (32, 32, 3)\n",
      "Label - Label Id: 7 Name: horse\n"
     ]
    },
    {
     "data": {
      "image/png": "[encoded data removed]",
      "text/plain": [
       "<matplotlib.figure.Figure at 0x28404b28320>"
      ]
     },
     "metadata": {
      "image/png": {
       "height": 250,
       "width": 253
      }
     },
     "output_type": "display_data"
    }
   ],
   "source": [
    "%matplotlib inline\n",
    "%config InlineBackend.figure_format = 'retina'\n",
    "\n",
    "import helper\n",
    "import numpy as np\n",
    "\n",
    "# Explore the dataset\n",
    "batch_id = 3\n",
    "sample_id = 158\n",
    "helper.display_stats(cifar10_dataset_folder_path, batch_id, sample_id)"
   ]
  },
  {
   "cell_type": "markdown",
   "metadata": {
    "deletable": true,
    "editable": true
   },
   "source": [
    "## Implement Preprocess Functions\n",
    "### Normalize\n",
    "In the cell below, implement the `normalize` function to take in image data, `x`, and return it as a normalized Numpy array. The values should be in the range of 0 to 1, inclusive.  The return object should be the same shape as `x`."
   ]
  },
  {
   "cell_type": "code",
   "execution_count": 10,
   "metadata": {
    "collapsed": false,
    "deletable": true,
    "editable": true
   },
   "outputs": [
    {
     "name": "stdout",
     "output_type": "stream",
     "text": [
      "Tests Passed\n"
     ]
    }
   ],
   "source": [
    "def normalize(x):\n",
    "    \"\"\"\n",
    "    Normalize a list of sample image data in the range of 0 to 1\n",
    "    : x: List of image data.  The image shape is (32, 32, 3)\n",
    "    : return: Numpy array of normalize data\n",
    "    \"\"\"\n",
    "    # TODO: Implement Function\n",
    "    # a = 0\n",
    "    # b = 1\n",
    "    # x_min = 0\n",
    "    # x_max = 255\n",
    "    # ret = a + x * (b - a) / (x_max - x_min)\n",
    "    ret = x / 255.0\n",
    "    return ret\n",
    "\n",
    "\n",
    "\"\"\"\n",
    "DON'T MODIFY ANYTHING IN THIS CELL THAT IS BELOW THIS LINE\n",
    "\"\"\"\n",
    "tests.test_normalize(normalize)"
   ]
  },
  {
   "cell_type": "markdown",
   "metadata": {
    "deletable": true,
    "editable": true
   },
   "source": [
    "### One-hot encode\n",
    "Just like the previous code cell, you'll be implementing a function for preprocessing.  This time, you'll implement the `one_hot_encode` function. The input, `x`, are a list of labels.  Implement the function to return the list of labels as One-Hot encoded Numpy array.  The possible values for labels are 0 to 9. The one-hot encoding function should return the same encoding for each value between each call to `one_hot_encode`.  Make sure to save the map of encodings outside the function.\n",
    "\n",
    "Hint: Don't reinvent the wheel."
   ]
  },
  {
   "cell_type": "code",
   "execution_count": 11,
   "metadata": {
    "collapsed": false,
    "deletable": true,
    "editable": true
   },
   "outputs": [
    {
     "name": "stdout",
     "output_type": "stream",
     "text": [
      "Tests Passed\n"
     ]
    }
   ],
   "source": [
    "def one_hot_encode(x):\n",
    "    \"\"\"\n",
    "    One hot encode a list of sample labels. Return a one-hot encoded vector for each label.\n",
    "    : x: List of sample Labels\n",
    "    : return: Numpy array of one-hot encoded labels\n",
    "    \"\"\"\n",
    "    # TODO: Implement Function\n",
    "    nb_classes = 10\n",
    "    # targets = np.array(x).reshape(-1) Already nparray\n",
    "    one_hot_targets = np.eye(nb_classes)[x]\n",
    "    return one_hot_targets\n",
    "\n",
    "\n",
    "\"\"\"\n",
    "DON'T MODIFY ANYTHING IN THIS CELL THAT IS BELOW THIS LINE\n",
    "\"\"\"\n",
    "tests.test_one_hot_encode(one_hot_encode)"
   ]
  },
  {
   "cell_type": "markdown",
   "metadata": {
    "deletable": true,
    "editable": true
   },
   "source": [
    "### Randomize Data\n",
    "As you saw from exploring the data above, the order of the samples are randomized.  It doesn't hurt to randomize it again, but you don't need to for this dataset."
   ]
  },
  {
   "cell_type": "markdown",
   "metadata": {
    "deletable": true,
    "editable": true
   },
   "source": [
    "## Preprocess all the data and save it\n",
    "Running the code cell below will preprocess all the CIFAR-10 data and save it to file. The code below also uses 10% of the training data for validation."
   ]
  },
  {
   "cell_type": "code",
   "execution_count": 12,
   "metadata": {
    "collapsed": false,
    "deletable": true,
    "editable": true
   },
   "outputs": [],
   "source": [
    "\"\"\"\n",
    "DON'T MODIFY ANYTHING IN THIS CELL\n",
    "\"\"\"\n",
    "# Preprocess Training, Validation, and Testing Data\n",
    "helper.preprocess_and_save_data(cifar10_dataset_folder_path, normalize, one_hot_encode)"
   ]
  },
  {
   "cell_type": "code",
   "execution_count": null,
   "metadata": {
    "collapsed": true,
    "deletable": true,
    "editable": true
   },
   "outputs": [],
   "source": []
  },
  {
   "cell_type": "markdown",
   "metadata": {
    "deletable": true,
    "editable": true
   },
   "source": [
    "# Check Point\n",
    "This is your first checkpoint.  If you ever decide to come back to this notebook or have to restart the notebook, you can start from here.  The preprocessed data has been saved to disk."
   ]
  },
  {
   "cell_type": "code",
   "execution_count": 1,
   "metadata": {
    "collapsed": true,
    "deletable": true,
    "editable": true
   },
   "outputs": [],
   "source": [
    "\"\"\"\n",
    "DON'T MODIFY ANYTHING IN THIS CELL\n",
    "\"\"\"\n",
    "import pickle\n",
    "import problem_unittests as tests\n",
    "import helper\n",
    "\n",
    "# Load the Preprocessed Validation data\n",
    "valid_features, valid_labels = pickle.load(open('preprocess_validation.p', mode='rb'))"
   ]
  },
  {
   "cell_type": "markdown",
   "metadata": {
    "deletable": true,
    "editable": true
   },
   "source": [
    "## Build the network\n",
    "For the neural network, you'll build each layer into a function.  Most of the code you've seen has been outside of functions. To test your code more thoroughly, we require that you put each layer in a function.  This allows us to give you better feedback and test for simple mistakes using our unittests before you submit your project.\n",
    "\n",
    ">**Note:** If you're finding it hard to dedicate enough time for this course each week, we've provided a small shortcut to this part of the project. In the next couple of problems, you'll have the option to use classes from the [TensorFlow Layers](https://www.tensorflow.org/api_docs/python/tf/layers) or [TensorFlow Layers (contrib)](https://www.tensorflow.org/api_guides/python/contrib.layers) packages to build each layer, except the layers you build in the \"Convolutional and Max Pooling Layer\" section.  TF Layers is similar to Keras's and TFLearn's abstraction to layers, so it's easy to pickup.\n",
    "\n",
    ">However, if you would like to get the most out of this course, try to solve all the problems _without_ using anything from the TF Layers packages. You **can** still use classes from other packages that happen to have the same name as ones you find in TF Layers! For example, instead of using the TF Layers version of the `conv2d` class, [tf.layers.conv2d](https://www.tensorflow.org/api_docs/python/tf/layers/conv2d), you would want to use the TF Neural Network version of `conv2d`, [tf.nn.conv2d](https://www.tensorflow.org/api_docs/python/tf/nn/conv2d). \n",
    "\n",
    "Let's begin!\n",
    "\n",
    "### Input\n",
    "The neural network needs to read the image data, one-hot encoded labels, and dropout keep probability. Implement the following functions\n",
    "* Implement `neural_net_image_input`\n",
    " * Return a [TF Placeholder](https://www.tensorflow.org/api_docs/python/tf/placeholder)\n",
    " * Set the shape using `image_shape` with batch size set to `None`.\n",
    " * Name the TensorFlow placeholder \"x\" using the TensorFlow `name` parameter in the [TF Placeholder](https://www.tensorflow.org/api_docs/python/tf/placeholder).\n",
    "* Implement `neural_net_label_input`\n",
    " * Return a [TF Placeholder](https://www.tensorflow.org/api_docs/python/tf/placeholder)\n",
    " * Set the shape using `n_classes` with batch size set to `None`.\n",
    " * Name the TensorFlow placeholder \"y\" using the TensorFlow `name` parameter in the [TF Placeholder](https://www.tensorflow.org/api_docs/python/tf/placeholder).\n",
    "* Implement `neural_net_keep_prob_input`\n",
    " * Return a [TF Placeholder](https://www.tensorflow.org/api_docs/python/tf/placeholder) for dropout keep probability.\n",
    " * Name the TensorFlow placeholder \"keep_prob\" using the TensorFlow `name` parameter in the [TF Placeholder](https://www.tensorflow.org/api_docs/python/tf/placeholder).\n",
    "\n",
    "These names will be used at the end of the project to load your saved model.\n",
    "\n",
    "Note: `None` for shapes in TensorFlow allow for a dynamic size."
   ]
  },
  {
   "cell_type": "code",
   "execution_count": 2,
   "metadata": {
    "collapsed": false,
    "deletable": true,
    "editable": true
   },
   "outputs": [
    {
     "name": "stdout",
     "output_type": "stream",
     "text": [
      "Image Input Tests Passed.\n",
      "Label Input Tests Passed.\n",
      "Keep Prob Tests Passed.\n"
     ]
    }
   ],
   "source": [
    "import tensorflow as tf\n",
    "\n",
    "def neural_net_image_input(image_shape):\n",
    "    \"\"\"\n",
    "    Return a Tensor for a bach of image input\n",
    "    : image_shape: Shape of the images\n",
    "    : return: Tensor for image input.\n",
    "    \"\"\"\n",
    "    x = tf.placeholder(tf.float32, [None, *image_shape], name=\"x\")\n",
    "    return x\n",
    "\n",
    "\n",
    "def neural_net_label_input(n_classes):\n",
    "    \"\"\"\n",
    "    Return a Tensor for a batch of label input\n",
    "    : n_classes: Number of classes\n",
    "    : return: Tensor for label input.\n",
    "    \"\"\"\n",
    "    y = tf.placeholder(tf.float32, [None, n_classes], name=\"y\")\n",
    "    return y\n",
    "\n",
    "\n",
    "def neural_net_keep_prob_input():\n",
    "    \"\"\"\n",
    "    Return a Tensor for keep probability\n",
    "    : return: Tensor for keep probability.\n",
    "    \"\"\"\n",
    "    keep_prob = tf.placeholder(tf.float32, name=\"keep_prob\")\n",
    "    return keep_prob\n",
    "\n",
    "\n",
    "\"\"\"\n",
    "DON'T MODIFY ANYTHING IN THIS CELL THAT IS BELOW THIS LINE\n",
    "\"\"\"\n",
    "tf.reset_default_graph()\n",
    "tests.test_nn_image_inputs(neural_net_image_input)\n",
    "tests.test_nn_label_inputs(neural_net_label_input)\n",
    "tests.test_nn_keep_prob_inputs(neural_net_keep_prob_input)"
   ]
  },
  {
   "cell_type": "markdown",
   "metadata": {
    "deletable": true,
    "editable": true
   },
   "source": [
    "### Convolution and Max Pooling Layer\n",
    "Convolution layers have a lot of success with images. For this code cell, you should implement the function `conv2d_maxpool` to apply convolution then max pooling:\n",
    "* Create the weight and bias using `conv_ksize`, `conv_num_outputs` and the shape of `x_tensor`.\n",
    "* Apply a convolution to `x_tensor` using weight and `conv_strides`.\n",
    " * We recommend you use same padding, but you're welcome to use any padding.\n",
    "* Add bias\n",
    "* Add a nonlinear activation to the convolution.\n",
    "* Apply Max Pooling using `pool_ksize` and `pool_strides`.\n",
    " * We recommend you use same padding, but you're welcome to use any padding.\n",
    "\n",
    "**Note:** You **can't** use [TensorFlow Layers](https://www.tensorflow.org/api_docs/python/tf/layers) or [TensorFlow Layers (contrib)](https://www.tensorflow.org/api_guides/python/contrib.layers) for **this** layer, but you can still use TensorFlow's [Neural Network](https://www.tensorflow.org/api_docs/python/tf/nn) package. You may still use the shortcut option for all the **other** layers."
   ]
  },
  {
   "cell_type": "code",
   "execution_count": 3,
   "metadata": {
    "collapsed": false,
    "deletable": true,
    "editable": true
   },
   "outputs": [
    {
     "name": "stdout",
     "output_type": "stream",
     "text": [
      "Tests Passed\n"
     ]
    }
   ],
   "source": [
    "def conv2d(x, W, b, conv_strides):\n",
    "    x = tf.nn.conv2d(x, W, strides=conv_strides, padding='SAME')\n",
    "    x = tf.nn.bias_add(x, b)\n",
    "    return tf.nn.relu(x)\n",
    "\n",
    "def conv2d_maxpool(x_tensor, conv_num_outputs, conv_ksize, conv_strides, pool_ksize, pool_strides):\n",
    "    \"\"\"\n",
    "    Apply convolution then max pooling to x_tensor\n",
    "    :param x_tensor: TensorFlow Tensor\n",
    "    :param conv_num_outputs: Number of outputs for the convolutional layer\n",
    "    :param conv_ksize: kernal size 2-D Tuple for the convolutional layer\n",
    "    :param conv_strides: Stride 2-D Tuple for convolution\n",
    "    :param pool_ksize: kernal size 2-D Tuple for pool\n",
    "    :param pool_strides: Stride 2-D Tuple for pool\n",
    "    : return: A tensor that represents convolution and max pooling of x_tensor\n",
    "    \"\"\"\n",
    "    in_depth = x_tensor.shape[3].value\n",
    "    wc1_shape = [*conv_ksize, in_depth, conv_num_outputs]\n",
    "    wc1 = tf.Variable(tf.random_normal(wc1_shape,stddev=0.1))\n",
    "    bc1 = tf.Variable(tf.zeros([conv_num_outputs]))\n",
    "\n",
    "    conv_strides = [1, *conv_strides, 1]\n",
    "    x = conv2d(x_tensor, wc1, bc1, conv_strides)\n",
    "\n",
    "    pool_ksize = [1, *pool_ksize, 1]\n",
    "    pool_strides = [1, *pool_strides, 1]\n",
    "    x = tf.nn.max_pool(x, ksize=pool_ksize, strides=pool_strides, padding='SAME')\n",
    "    return x\n",
    "\n",
    "\n",
    "\"\"\"\n",
    "DON'T MODIFY ANYTHING IN THIS CELL THAT IS BELOW THIS LINE\n",
    "\"\"\"\n",
    "tests.test_con_pool(conv2d_maxpool)"
   ]
  },
  {
   "cell_type": "markdown",
   "metadata": {
    "deletable": true,
    "editable": true
   },
   "source": [
    "### Flatten Layer\n",
    "Implement the `flatten` function to change the dimension of `x_tensor` from a 4-D tensor to a 2-D tensor.  The output should be the shape (*Batch Size*, *Flattened Image Size*). Shortcut option: you can use classes from the [TensorFlow Layers](https://www.tensorflow.org/api_docs/python/tf/layers) or [TensorFlow Layers (contrib)](https://www.tensorflow.org/api_guides/python/contrib.layers) packages for this layer. For more of a challenge, only use other TensorFlow packages."
   ]
  },
  {
   "cell_type": "code",
   "execution_count": 4,
   "metadata": {
    "collapsed": false,
    "deletable": true,
    "editable": true
   },
   "outputs": [
    {
     "name": "stdout",
     "output_type": "stream",
     "text": [
      "Tests Passed\n"
     ]
    }
   ],
   "source": [
    "def flatten(x_tensor):\n",
    "    \"\"\"\n",
    "    Flatten x_tensor to (Batch Size, Flattened Image Size)\n",
    "    : x_tensor: A tensor of size (Batch Size, ...), where ... are the image dimensions.\n",
    "    : return: A tensor of size (Batch Size, Flattened Image Size).\n",
    "    \"\"\"\n",
    "    \n",
    "    # shape = x_tensor.get_shape().as_list()\n",
    "    # dim = np.prod(shape[1:])\n",
    "    # x2 = tf.reshape(x_tensor, [-1, dim])\n",
    "    # return x2\n",
    "\n",
    "    flat_inputs = tf.contrib.layers.flatten(x_tensor)\n",
    "    return flat_inputs\n",
    "\n",
    "\n",
    "\"\"\"\n",
    "DON'T MODIFY ANYTHING IN THIS CELL THAT IS BELOW THIS LINE\n",
    "\"\"\"\n",
    "tests.test_flatten(flatten)"
   ]
  },
  {
   "cell_type": "markdown",
   "metadata": {
    "deletable": true,
    "editable": true
   },
   "source": [
    "### Fully-Connected Layer\n",
    "Implement the `fully_conn` function to apply a fully connected layer to `x_tensor` with the shape (*Batch Size*, *num_outputs*). Shortcut option: you can use classes from the [TensorFlow Layers](https://www.tensorflow.org/api_docs/python/tf/layers) or [TensorFlow Layers (contrib)](https://www.tensorflow.org/api_guides/python/contrib.layers) packages for this layer. For more of a challenge, only use other TensorFlow packages."
   ]
  },
  {
   "cell_type": "code",
   "execution_count": 5,
   "metadata": {
    "collapsed": false,
    "deletable": true,
    "editable": true
   },
   "outputs": [
    {
     "name": "stdout",
     "output_type": "stream",
     "text": [
      "Tests Passed\n"
     ]
    }
   ],
   "source": [
    "def fully_conn(x_tensor, num_outputs):\n",
    "    \"\"\"\n",
    "    Apply a fully connected layer to x_tensor using weight and bias\n",
    "    : x_tensor: A 2-D tensor where the first dimension is batch size.\n",
    "    : num_outputs: The number of output that the new tensor should be.\n",
    "    : return: A 2-D tensor where the second dimension is num_outputs.\n",
    "    \"\"\"\n",
    "    # w_shape = (x_tensor.get_shape()[1].value, num_outputs)\n",
    "    # w = tf.Variable(tf.random_normal(w_shape, stddev=0.1))\n",
    "    # b = tf.Variable(tf.zeros(num_outputs))\n",
    "    # x = tf.add(tf.matmul(x_tensor, w), b)\n",
    "    # x = tf.nn.relu(x)\n",
    "    # return x\n",
    "\n",
    "    dense = tf.layers.dense(inputs=x_tensor,\n",
    "                            units=num_outputs,\n",
    "                            kernel_initializer=tf.truncated_normal_initializer(stddev=0.1),\n",
    "                            activation=tf.nn.relu)\n",
    "    return dense\n",
    "\n",
    "\n",
    "\"\"\"\n",
    "DON'T MODIFY ANYTHING IN THIS CELL THAT IS BELOW THIS LINE\n",
    "\"\"\"\n",
    "tests.test_fully_conn(fully_conn)"
   ]
  },
  {
   "cell_type": "markdown",
   "metadata": {
    "deletable": true,
    "editable": true
   },
   "source": [
    "### Output Layer\n",
    "Implement the `output` function to apply a fully connected layer to `x_tensor` with the shape (*Batch Size*, *num_outputs*). Shortcut option: you can use classes from the [TensorFlow Layers](https://www.tensorflow.org/api_docs/python/tf/layers) or [TensorFlow Layers (contrib)](https://www.tensorflow.org/api_guides/python/contrib.layers) packages for this layer. For more of a challenge, only use other TensorFlow packages.\n",
    "\n",
    "**Note:** Activation, softmax, or cross entropy should **not** be applied to this."
   ]
  },
  {
   "cell_type": "code",
   "execution_count": 6,
   "metadata": {
    "collapsed": false,
    "deletable": true,
    "editable": true
   },
   "outputs": [
    {
     "name": "stdout",
     "output_type": "stream",
     "text": [
      "Tests Passed\n"
     ]
    }
   ],
   "source": [
    "def output(x_tensor, num_outputs):\n",
    "    \"\"\"\n",
    "    Apply a output layer to x_tensor using weight and bias\n",
    "    : x_tensor: A 2-D tensor where the first dimension is batch size.\n",
    "    : num_outputs: The number of output that the new tensor should be.\n",
    "    : return: A 2-D tensor where the second dimension is num_outputs.\n",
    "    \"\"\"\n",
    "    # w_shape = [x_tensor.get_shape()[1].value, num_outputs]\n",
    "    # w = tf.Variable(tf.random_normal(w_shape, stddev=0.1))\n",
    "    # b = tf.Variable(tf.zeros(num_outputs))\n",
    "    # x = tf.add(tf.matmul(x_tensor, w), b)\n",
    "    # return x\n",
    "\n",
    "    dense = tf.layers.dense(inputs=x_tensor,\n",
    "                            units=num_outputs,\n",
    "                            kernel_initializer=tf.truncated_normal_initializer(stddev=0.1),\n",
    "                            activation=None)\n",
    "    return dense\n",
    "\n",
    "\n",
    "\"\"\"\n",
    "DON'T MODIFY ANYTHING IN THIS CELL THAT IS BELOW THIS LINE\n",
    "\"\"\"\n",
    "tests.test_output(output)"
   ]
  },
  {
   "cell_type": "markdown",
   "metadata": {
    "deletable": true,
    "editable": true
   },
   "source": [
    "### Create Convolutional Model\n",
    "Implement the function `conv_net` to create a convolutional neural network model. The function takes in a batch of images, `x`, and outputs logits.  Use the layers you created above to create this model:\n",
    "\n",
    "* Apply 1, 2, or 3 Convolution and Max Pool layers\n",
    "* Apply a Flatten Layer\n",
    "* Apply 1, 2, or 3 Fully Connected Layers\n",
    "* Apply an Output Layer\n",
    "* Return the output\n",
    "* Apply [TensorFlow's Dropout](https://www.tensorflow.org/api_docs/python/tf/nn/dropout) to one or more layers in the model using `keep_prob`. "
   ]
  },
  {
   "cell_type": "code",
   "execution_count": 7,
   "metadata": {
    "collapsed": false,
    "deletable": true,
    "editable": true
   },
   "outputs": [
    {
     "name": "stdout",
     "output_type": "stream",
     "text": [
      "Neural Network Built!\n"
     ]
    }
   ],
   "source": [
    "def conv_net(x, keep_prob):\n",
    "    \"\"\"\n",
    "    Create a convolutional neural network model\n",
    "    : x: Placeholder tensor that holds image data.\n",
    "    : keep_prob: Placeholder tensor that hold dropout keep probability.\n",
    "    : return: Tensor that represents logits\n",
    "    \"\"\"\n",
    "    # TODO: Apply 1, 2, or 3 Convolution and Max Pool layers\n",
    "    #    Play around with different number of outputs, kernel size and stride\n",
    "    # Function Definition from Above:\n",
    "    #    conv2d_maxpool(x_tensor, conv_num_outputs, conv_ksize, conv_strides, pool_ksize, pool_strides)\n",
    "    x = conv2d_maxpool(x, 24, (3, 3), (1, 1), (2, 2), (2, 2))\n",
    "    x = conv2d_maxpool(x, 32, (3, 3), (2, 2), (2, 2), (2, 2))\n",
    "    x = conv2d_maxpool(x, 64, (3, 3), (2, 2), (2, 2), (2, 2))\n",
    "\n",
    "    # TODO: Apply a Flatten Layer\n",
    "    # Function Definition from Above:\n",
    "    #   flatten(x_tensor)\n",
    "    x = flatten(x)\n",
    "\n",
    "    # TODO: Apply 1, 2, or 3 Fully Connected Layers\n",
    "    #    Play around with different number of outputs\n",
    "    # Function Definition from Above:\n",
    "    #   fully_conn(x_tensor, num_outputs)\n",
    "    x = fully_conn(x, 256)\n",
    "    x = tf.nn.dropout(x, keep_prob)\n",
    "    x = fully_conn(x, 128)\n",
    "    x = tf.nn.dropout(x, keep_prob)\n",
    "    \n",
    "    # TODO: Apply an Output Layer\n",
    "    #    Set this to the number of classes\n",
    "    # Function Definition from Above:\n",
    "    #   output(x_tensor, num_outputs)\n",
    "    out = output(x, 10)\n",
    "    \n",
    "    # TODO: return output\n",
    "    return out\n",
    "\n",
    "\n",
    "\"\"\"\n",
    "DON'T MODIFY ANYTHING IN THIS CELL THAT IS BELOW THIS LINE\n",
    "\"\"\"\n",
    "\n",
    "##############################\n",
    "## Build the Neural Network ##\n",
    "##############################\n",
    "\n",
    "# Remove previous weights, bias, inputs, etc..\n",
    "tf.reset_default_graph()\n",
    "\n",
    "# Inputs\n",
    "x = neural_net_image_input((32, 32, 3))\n",
    "y = neural_net_label_input(10)\n",
    "keep_prob = neural_net_keep_prob_input()\n",
    "\n",
    "# Model\n",
    "logits = conv_net(x, keep_prob)\n",
    "\n",
    "# Name logits Tensor, so that is can be loaded from disk after training\n",
    "logits = tf.identity(logits, name='logits')\n",
    "\n",
    "# Loss and Optimizer\n",
    "cost = tf.reduce_mean(tf.nn.softmax_cross_entropy_with_logits(logits=logits, labels=y))\n",
    "optimizer = tf.train.AdamOptimizer().minimize(cost)\n",
    "\n",
    "# Accuracy\n",
    "correct_pred = tf.equal(tf.argmax(logits, 1), tf.argmax(y, 1))\n",
    "accuracy = tf.reduce_mean(tf.cast(correct_pred, tf.float32), name='accuracy')\n",
    "\n",
    "tests.test_conv_net(conv_net)"
   ]
  },
  {
   "cell_type": "markdown",
   "metadata": {
    "deletable": true,
    "editable": true
   },
   "source": [
    "## Train the Neural Network\n",
    "### Single Optimization\n",
    "Implement the function `train_neural_network` to do a single optimization.  The optimization should use `optimizer` to optimize in `session` with a `feed_dict` of the following:\n",
    "* `x` for image input\n",
    "* `y` for labels\n",
    "* `keep_prob` for keep probability for dropout\n",
    "\n",
    "This function will be called for each batch, so `tf.global_variables_initializer()` has already been called.\n",
    "\n",
    "Note: Nothing needs to be returned. This function is only optimizing the neural network."
   ]
  },
  {
   "cell_type": "code",
   "execution_count": 8,
   "metadata": {
    "collapsed": false,
    "deletable": true,
    "editable": true
   },
   "outputs": [
    {
     "name": "stdout",
     "output_type": "stream",
     "text": [
      "Tests Passed\n"
     ]
    }
   ],
   "source": [
    "def train_neural_network(session, optimizer, keep_probability, feature_batch, label_batch):\n",
    "    \"\"\"\n",
    "    Optimize the session on a batch of images and labels\n",
    "    : session: Current TensorFlow session\n",
    "    : optimizer: TensorFlow optimizer function\n",
    "    : keep_probability: keep probability\n",
    "    : feature_batch: Batch of Numpy image data\n",
    "    : label_batch: Batch of Numpy label data\n",
    "    \"\"\"\n",
    "    \n",
    "    session.run(optimizer, feed_dict={\n",
    "        x: feature_batch,\n",
    "        y: label_batch,\n",
    "        keep_prob: keep_probability\n",
    "    })\n",
    "\n",
    "\"\"\"\n",
    "DON'T MODIFY ANYTHING IN THIS CELL THAT IS BELOW THIS LINE\n",
    "\"\"\"\n",
    "tests.test_train_nn(train_neural_network)"
   ]
  },
  {
   "cell_type": "markdown",
   "metadata": {
    "deletable": true,
    "editable": true
   },
   "source": [
    "### Show Stats\n",
    "Implement the function `print_stats` to print loss and validation accuracy.  Use the global variables `valid_features` and `valid_labels` to calculate validation accuracy.  Use a keep probability of `1.0` to calculate the loss and validation accuracy."
   ]
  },
  {
   "cell_type": "code",
   "execution_count": 9,
   "metadata": {
    "collapsed": false,
    "deletable": true,
    "editable": true
   },
   "outputs": [],
   "source": [
    "def print_stats(session, feature_batch, label_batch, cost, accuracy):\n",
    "    \"\"\"\n",
    "    Print information about loss and validation accuracy\n",
    "    : session: Current TensorFlow session\n",
    "    : feature_batch: Batch of Numpy image data\n",
    "    : label_batch: Batch of Numpy label data\n",
    "    : cost: TensorFlow cost function\n",
    "    : accuracy: TensorFlow accuracy function\n",
    "    \"\"\"\n",
    "    \n",
    "    valid_loss = session.run(cost, feed_dict={\n",
    "        x: feature_batch,\n",
    "        y: label_batch,\n",
    "        keep_prob: 1.0\n",
    "    })\n",
    "\n",
    "    validation_accuracy = session.run(accuracy, feed_dict={\n",
    "        x: valid_features,\n",
    "        y: valid_labels,\n",
    "        keep_prob: 1.0\n",
    "    })\n",
    "\n",
    "    print('Loss: {:>10.4f} Validation Accuracy: {:.6f}'.format(valid_loss, validation_accuracy))"
   ]
  },
  {
   "cell_type": "markdown",
   "metadata": {
    "deletable": true,
    "editable": true
   },
   "source": [
    "### Hyperparameters\n",
    "Tune the following parameters:\n",
    "* Set `epochs` to the number of iterations until the network stops learning or start overfitting\n",
    "* Set `batch_size` to the highest number that your machine has memory for.  Most people set them to common sizes of memory:\n",
    " * 64\n",
    " * 128\n",
    " * 256\n",
    " * ...\n",
    "* Set `keep_probability` to the probability of keeping a node using dropout"
   ]
  },
  {
   "cell_type": "code",
   "execution_count": 10,
   "metadata": {
    "collapsed": true,
    "deletable": true,
    "editable": true
   },
   "outputs": [],
   "source": [
    "# TODO: Tune Parameters\n",
    "epochs = 50\n",
    "batch_size = 256\n",
    "keep_probability = 0.5"
   ]
  },
  {
   "cell_type": "markdown",
   "metadata": {
    "deletable": true,
    "editable": true
   },
   "source": [
    "### Train on a Single CIFAR-10 Batch\n",
    "Instead of training the neural network on all the CIFAR-10 batches of data, let's use a single batch. This should save time while you iterate on the model to get a better accuracy.  Once the final validation accuracy is 50% or greater, run the model on all the data in the next section."
   ]
  },
  {
   "cell_type": "code",
   "execution_count": 25,
   "metadata": {
    "collapsed": false,
    "deletable": true,
    "editable": true
   },
   "outputs": [
    {
     "name": "stdout",
     "output_type": "stream",
     "text": [
      "Checking the Training on a Single Batch...\n",
      "Epoch  1, CIFAR-10 Batch 1:  Loss:     2.2319 Validation Accuracy: 0.168800\n",
      "Epoch  2, CIFAR-10 Batch 1:  Loss:     2.1956 Validation Accuracy: 0.258800\n",
      "Epoch  3, CIFAR-10 Batch 1:  Loss:     2.0937 Validation Accuracy: 0.299200\n",
      "Epoch  4, CIFAR-10 Batch 1:  Loss:     1.9434 Validation Accuracy: 0.353200\n",
      "Epoch  5, CIFAR-10 Batch 1:  Loss:     1.8375 Validation Accuracy: 0.392800\n",
      "Epoch  6, CIFAR-10 Batch 1:  Loss:     1.7174 Validation Accuracy: 0.406000\n",
      "Epoch  7, CIFAR-10 Batch 1:  Loss:     1.5291 Validation Accuracy: 0.419600\n",
      "Epoch  8, CIFAR-10 Batch 1:  Loss:     1.4704 Validation Accuracy: 0.430600\n",
      "Epoch  9, CIFAR-10 Batch 1:  Loss:     1.3872 Validation Accuracy: 0.443600\n",
      "Epoch 10, CIFAR-10 Batch 1:  Loss:     1.2896 Validation Accuracy: 0.455800\n",
      "Epoch 11, CIFAR-10 Batch 1:  Loss:     1.2283 Validation Accuracy: 0.465800\n",
      "Epoch 12, CIFAR-10 Batch 1:  Loss:     1.1332 Validation Accuracy: 0.487200\n",
      "Epoch 13, CIFAR-10 Batch 1:  Loss:     1.0904 Validation Accuracy: 0.491400\n",
      "Epoch 14, CIFAR-10 Batch 1:  Loss:     1.0321 Validation Accuracy: 0.502200\n",
      "Epoch 15, CIFAR-10 Batch 1:  Loss:     0.9886 Validation Accuracy: 0.496800\n",
      "Epoch 16, CIFAR-10 Batch 1:  Loss:     0.9354 Validation Accuracy: 0.507800\n",
      "Epoch 17, CIFAR-10 Batch 1:  Loss:     0.8881 Validation Accuracy: 0.510400\n",
      "Epoch 18, CIFAR-10 Batch 1:  Loss:     0.8157 Validation Accuracy: 0.512400\n",
      "Epoch 19, CIFAR-10 Batch 1:  Loss:     0.7830 Validation Accuracy: 0.514200\n",
      "Epoch 20, CIFAR-10 Batch 1:  Loss:     0.7373 Validation Accuracy: 0.519400\n",
      "Epoch 21, CIFAR-10 Batch 1:  Loss:     0.6953 Validation Accuracy: 0.518200\n",
      "Epoch 22, CIFAR-10 Batch 1:  Loss:     0.6619 Validation Accuracy: 0.517800\n",
      "Epoch 23, CIFAR-10 Batch 1:  Loss:     0.6661 Validation Accuracy: 0.508400\n",
      "Epoch 24, CIFAR-10 Batch 1:  Loss:     0.6730 Validation Accuracy: 0.500800\n",
      "Epoch 25, CIFAR-10 Batch 1:  Loss:     0.5836 Validation Accuracy: 0.518800\n",
      "Epoch 26, CIFAR-10 Batch 1:  Loss:     0.5561 Validation Accuracy: 0.524200\n",
      "Epoch 27, CIFAR-10 Batch 1:  Loss:     0.5614 Validation Accuracy: 0.522000\n",
      "Epoch 28, CIFAR-10 Batch 1:  Loss:     0.5509 Validation Accuracy: 0.508600\n",
      "Epoch 29, CIFAR-10 Batch 1:  Loss:     0.4995 Validation Accuracy: 0.520200\n",
      "Epoch 30, CIFAR-10 Batch 1:  Loss:     0.4522 Validation Accuracy: 0.528200\n",
      "Epoch 31, CIFAR-10 Batch 1:  Loss:     0.4448 Validation Accuracy: 0.527400\n",
      "Epoch 32, CIFAR-10 Batch 1:  Loss:     0.4430 Validation Accuracy: 0.519200\n",
      "Epoch 33, CIFAR-10 Batch 1:  Loss:     0.4190 Validation Accuracy: 0.523000\n",
      "Epoch 34, CIFAR-10 Batch 1:  Loss:     0.4052 Validation Accuracy: 0.516200\n",
      "Epoch 35, CIFAR-10 Batch 1:  Loss:     0.3850 Validation Accuracy: 0.525600\n",
      "Epoch 36, CIFAR-10 Batch 1:  Loss:     0.3707 Validation Accuracy: 0.518600\n",
      "Epoch 37, CIFAR-10 Batch 1:  Loss:     0.3630 Validation Accuracy: 0.512000\n",
      "Epoch 38, CIFAR-10 Batch 1:  Loss:     0.3242 Validation Accuracy: 0.524800\n",
      "Epoch 39, CIFAR-10 Batch 1:  Loss:     0.3074 Validation Accuracy: 0.527200\n",
      "Epoch 40, CIFAR-10 Batch 1:  Loss:     0.3575 Validation Accuracy: 0.500600\n",
      "Epoch 41, CIFAR-10 Batch 1:  Loss:     0.2912 Validation Accuracy: 0.527600\n",
      "Epoch 42, CIFAR-10 Batch 1:  Loss:     0.2895 Validation Accuracy: 0.522800\n",
      "Epoch 43, CIFAR-10 Batch 1:  Loss:     0.2799 Validation Accuracy: 0.541200\n",
      "Epoch 44, CIFAR-10 Batch 1:  Loss:     0.2484 Validation Accuracy: 0.523000\n",
      "Epoch 45, CIFAR-10 Batch 1:  Loss:     0.2418 Validation Accuracy: 0.526600\n",
      "Epoch 46, CIFAR-10 Batch 1:  Loss:     0.2766 Validation Accuracy: 0.518000\n",
      "Epoch 47, CIFAR-10 Batch 1:  Loss:     0.2676 Validation Accuracy: 0.517200\n",
      "Epoch 48, CIFAR-10 Batch 1:  Loss:     0.2444 Validation Accuracy: 0.526800\n",
      "Epoch 49, CIFAR-10 Batch 1:  Loss:     0.2901 Validation Accuracy: 0.516000\n",
      "Epoch 50, CIFAR-10 Batch 1:  Loss:     0.2589 Validation Accuracy: 0.526200\n"
     ]
    }
   ],
   "source": [
    "\"\"\"\n",
    "DON'T MODIFY ANYTHING IN THIS CELL\n",
    "\"\"\"\n",
    "print('Checking the Training on a Single Batch...')\n",
    "with tf.Session() as sess:\n",
    "    # Initializing the variables\n",
    "    sess.run(tf.global_variables_initializer())\n",
    "    \n",
    "    # Training cycle\n",
    "    for epoch in range(epochs):\n",
    "        batch_i = 1\n",
    "        for batch_features, batch_labels in helper.load_preprocess_training_batch(batch_i, batch_size):\n",
    "            train_neural_network(sess, optimizer, keep_probability, batch_features, batch_labels)\n",
    "        print('Epoch {:>2}, CIFAR-10 Batch {}:  '.format(epoch + 1, batch_i), end='')\n",
    "        print_stats(sess, batch_features, batch_labels, cost, accuracy)"
   ]
  },
  {
   "cell_type": "markdown",
   "metadata": {
    "deletable": true,
    "editable": true
   },
   "source": [
    "### Fully Train the Model\n",
    "Now that you got a good accuracy with a single CIFAR-10 batch, try it with all five batches."
   ]
  },
  {
   "cell_type": "code",
   "execution_count": 11,
   "metadata": {
    "collapsed": false,
    "deletable": true,
    "editable": true
   },
   "outputs": [
    {
     "name": "stdout",
     "output_type": "stream",
     "text": [
      "Training...\n",
      "Epoch  1, CIFAR-10 Batch 1:  Loss:     2.2084 Validation Accuracy: 0.227000\n",
      "Epoch  1, CIFAR-10 Batch 2:  Loss:     2.1028 Validation Accuracy: 0.275000\n",
      "Epoch  1, CIFAR-10 Batch 3:  Loss:     1.7069 Validation Accuracy: 0.315400\n",
      "Epoch  1, CIFAR-10 Batch 4:  Loss:     1.7140 Validation Accuracy: 0.380400\n",
      "Epoch  1, CIFAR-10 Batch 5:  Loss:     1.6619 Validation Accuracy: 0.405000\n",
      "Epoch  2, CIFAR-10 Batch 1:  Loss:     1.8019 Validation Accuracy: 0.413600\n",
      "Epoch  2, CIFAR-10 Batch 2:  Loss:     1.7440 Validation Accuracy: 0.429600\n",
      "Epoch  2, CIFAR-10 Batch 3:  Loss:     1.3679 Validation Accuracy: 0.430400\n",
      "Epoch  2, CIFAR-10 Batch 4:  Loss:     1.4780 Validation Accuracy: 0.442600\n",
      "Epoch  2, CIFAR-10 Batch 5:  Loss:     1.4959 Validation Accuracy: 0.462800\n",
      "Epoch  3, CIFAR-10 Batch 1:  Loss:     1.5922 Validation Accuracy: 0.456200\n",
      "Epoch  3, CIFAR-10 Batch 2:  Loss:     1.5161 Validation Accuracy: 0.472400\n",
      "Epoch  3, CIFAR-10 Batch 3:  Loss:     1.1732 Validation Accuracy: 0.469800\n",
      "Epoch  3, CIFAR-10 Batch 4:  Loss:     1.3091 Validation Accuracy: 0.487600\n",
      "Epoch  3, CIFAR-10 Batch 5:  Loss:     1.3647 Validation Accuracy: 0.498000\n",
      "Epoch  4, CIFAR-10 Batch 1:  Loss:     1.4503 Validation Accuracy: 0.508000\n",
      "Epoch  4, CIFAR-10 Batch 2:  Loss:     1.3203 Validation Accuracy: 0.505000\n",
      "Epoch  4, CIFAR-10 Batch 3:  Loss:     1.0771 Validation Accuracy: 0.510000\n",
      "Epoch  4, CIFAR-10 Batch 4:  Loss:     1.1953 Validation Accuracy: 0.513600\n",
      "Epoch  4, CIFAR-10 Batch 5:  Loss:     1.3025 Validation Accuracy: 0.518800\n",
      "Epoch  5, CIFAR-10 Batch 1:  Loss:     1.2858 Validation Accuracy: 0.532000\n",
      "Epoch  5, CIFAR-10 Batch 2:  Loss:     1.1125 Validation Accuracy: 0.513800\n",
      "Epoch  5, CIFAR-10 Batch 3:  Loss:     0.9915 Validation Accuracy: 0.526000\n",
      "Epoch  5, CIFAR-10 Batch 4:  Loss:     1.1254 Validation Accuracy: 0.545400\n",
      "Epoch  5, CIFAR-10 Batch 5:  Loss:     1.1719 Validation Accuracy: 0.543000\n",
      "Epoch  6, CIFAR-10 Batch 1:  Loss:     1.1860 Validation Accuracy: 0.548400\n",
      "Epoch  6, CIFAR-10 Batch 2:  Loss:     1.0164 Validation Accuracy: 0.547400\n",
      "Epoch  6, CIFAR-10 Batch 3:  Loss:     0.8704 Validation Accuracy: 0.547800\n",
      "Epoch  6, CIFAR-10 Batch 4:  Loss:     1.0027 Validation Accuracy: 0.551000\n",
      "Epoch  6, CIFAR-10 Batch 5:  Loss:     1.1178 Validation Accuracy: 0.556000\n",
      "Epoch  7, CIFAR-10 Batch 1:  Loss:     1.0555 Validation Accuracy: 0.560800\n",
      "Epoch  7, CIFAR-10 Batch 2:  Loss:     0.9634 Validation Accuracy: 0.547200\n",
      "Epoch  7, CIFAR-10 Batch 3:  Loss:     0.8214 Validation Accuracy: 0.561200\n",
      "Epoch  7, CIFAR-10 Batch 4:  Loss:     0.9580 Validation Accuracy: 0.567000\n",
      "Epoch  7, CIFAR-10 Batch 5:  Loss:     1.0599 Validation Accuracy: 0.568400\n",
      "Epoch  8, CIFAR-10 Batch 1:  Loss:     0.9992 Validation Accuracy: 0.565800\n",
      "Epoch  8, CIFAR-10 Batch 2:  Loss:     0.8508 Validation Accuracy: 0.555000\n",
      "Epoch  8, CIFAR-10 Batch 3:  Loss:     0.7842 Validation Accuracy: 0.572800\n",
      "Epoch  8, CIFAR-10 Batch 4:  Loss:     0.8830 Validation Accuracy: 0.581600\n",
      "Epoch  8, CIFAR-10 Batch 5:  Loss:     0.9543 Validation Accuracy: 0.582800\n",
      "Epoch  9, CIFAR-10 Batch 1:  Loss:     0.9171 Validation Accuracy: 0.587000\n",
      "Epoch  9, CIFAR-10 Batch 2:  Loss:     0.7272 Validation Accuracy: 0.582200\n",
      "Epoch  9, CIFAR-10 Batch 3:  Loss:     0.7253 Validation Accuracy: 0.585800\n",
      "Epoch  9, CIFAR-10 Batch 4:  Loss:     0.8757 Validation Accuracy: 0.585200\n",
      "Epoch  9, CIFAR-10 Batch 5:  Loss:     0.8645 Validation Accuracy: 0.597200\n",
      "Epoch 10, CIFAR-10 Batch 1:  Loss:     0.8827 Validation Accuracy: 0.589000\n",
      "Epoch 10, CIFAR-10 Batch 2:  Loss:     0.7237 Validation Accuracy: 0.587000\n",
      "Epoch 10, CIFAR-10 Batch 3:  Loss:     0.6923 Validation Accuracy: 0.593200\n",
      "Epoch 10, CIFAR-10 Batch 4:  Loss:     0.7841 Validation Accuracy: 0.607000\n",
      "Epoch 10, CIFAR-10 Batch 5:  Loss:     0.8082 Validation Accuracy: 0.603600\n",
      "Epoch 11, CIFAR-10 Batch 1:  Loss:     0.7893 Validation Accuracy: 0.609800\n",
      "Epoch 11, CIFAR-10 Batch 2:  Loss:     0.7125 Validation Accuracy: 0.607000\n",
      "Epoch 11, CIFAR-10 Batch 3:  Loss:     0.6183 Validation Accuracy: 0.607400\n",
      "Epoch 11, CIFAR-10 Batch 4:  Loss:     0.7937 Validation Accuracy: 0.608600\n",
      "Epoch 11, CIFAR-10 Batch 5:  Loss:     0.7484 Validation Accuracy: 0.617800\n",
      "Epoch 12, CIFAR-10 Batch 1:  Loss:     0.7131 Validation Accuracy: 0.615200\n",
      "Epoch 12, CIFAR-10 Batch 2:  Loss:     0.6346 Validation Accuracy: 0.610800\n",
      "Epoch 12, CIFAR-10 Batch 3:  Loss:     0.5707 Validation Accuracy: 0.609000\n",
      "Epoch 12, CIFAR-10 Batch 4:  Loss:     0.6847 Validation Accuracy: 0.619600\n",
      "Epoch 12, CIFAR-10 Batch 5:  Loss:     0.7321 Validation Accuracy: 0.624600\n",
      "Epoch 13, CIFAR-10 Batch 1:  Loss:     0.7198 Validation Accuracy: 0.614400\n",
      "Epoch 13, CIFAR-10 Batch 2:  Loss:     0.5956 Validation Accuracy: 0.611600\n",
      "Epoch 13, CIFAR-10 Batch 3:  Loss:     0.5367 Validation Accuracy: 0.615800\n",
      "Epoch 13, CIFAR-10 Batch 4:  Loss:     0.6445 Validation Accuracy: 0.628000\n",
      "Epoch 13, CIFAR-10 Batch 5:  Loss:     0.6886 Validation Accuracy: 0.629200\n",
      "Epoch 14, CIFAR-10 Batch 1:  Loss:     0.6532 Validation Accuracy: 0.632200\n",
      "Epoch 14, CIFAR-10 Batch 2:  Loss:     0.5973 Validation Accuracy: 0.615600\n",
      "Epoch 14, CIFAR-10 Batch 3:  Loss:     0.5053 Validation Accuracy: 0.615200\n",
      "Epoch 14, CIFAR-10 Batch 4:  Loss:     0.6099 Validation Accuracy: 0.630400\n",
      "Epoch 14, CIFAR-10 Batch 5:  Loss:     0.6484 Validation Accuracy: 0.634200\n",
      "Epoch 15, CIFAR-10 Batch 1:  Loss:     0.6274 Validation Accuracy: 0.630400\n",
      "Epoch 15, CIFAR-10 Batch 2:  Loss:     0.5642 Validation Accuracy: 0.619600\n",
      "Epoch 15, CIFAR-10 Batch 3:  Loss:     0.4558 Validation Accuracy: 0.630800\n",
      "Epoch 15, CIFAR-10 Batch 4:  Loss:     0.6571 Validation Accuracy: 0.624200\n",
      "Epoch 15, CIFAR-10 Batch 5:  Loss:     0.6114 Validation Accuracy: 0.629600\n",
      "Epoch 16, CIFAR-10 Batch 1:  Loss:     0.6142 Validation Accuracy: 0.634000\n",
      "Epoch 16, CIFAR-10 Batch 2:  Loss:     0.4597 Validation Accuracy: 0.631600\n",
      "Epoch 16, CIFAR-10 Batch 3:  Loss:     0.4466 Validation Accuracy: 0.630600\n",
      "Epoch 16, CIFAR-10 Batch 4:  Loss:     0.5456 Validation Accuracy: 0.633400\n",
      "Epoch 16, CIFAR-10 Batch 5:  Loss:     0.5966 Validation Accuracy: 0.631400\n",
      "Epoch 17, CIFAR-10 Batch 1:  Loss:     0.5626 Validation Accuracy: 0.635000\n",
      "Epoch 17, CIFAR-10 Batch 2:  Loss:     0.4724 Validation Accuracy: 0.640800\n",
      "Epoch 17, CIFAR-10 Batch 3:  Loss:     0.4324 Validation Accuracy: 0.636600\n",
      "Epoch 17, CIFAR-10 Batch 4:  Loss:     0.5335 Validation Accuracy: 0.633400\n",
      "Epoch 17, CIFAR-10 Batch 5:  Loss:     0.5609 Validation Accuracy: 0.634000\n",
      "Epoch 18, CIFAR-10 Batch 1:  Loss:     0.5586 Validation Accuracy: 0.641000\n",
      "Epoch 18, CIFAR-10 Batch 2:  Loss:     0.4533 Validation Accuracy: 0.637200\n",
      "Epoch 18, CIFAR-10 Batch 3:  Loss:     0.3854 Validation Accuracy: 0.643600\n",
      "Epoch 18, CIFAR-10 Batch 4:  Loss:     0.5172 Validation Accuracy: 0.632000\n",
      "Epoch 18, CIFAR-10 Batch 5:  Loss:     0.5895 Validation Accuracy: 0.627000\n",
      "Epoch 19, CIFAR-10 Batch 1:  Loss:     0.5603 Validation Accuracy: 0.635600\n",
      "Epoch 19, CIFAR-10 Batch 2:  Loss:     0.4120 Validation Accuracy: 0.632800\n",
      "Epoch 19, CIFAR-10 Batch 3:  Loss:     0.4069 Validation Accuracy: 0.640400\n",
      "Epoch 19, CIFAR-10 Batch 4:  Loss:     0.4790 Validation Accuracy: 0.636000\n",
      "Epoch 19, CIFAR-10 Batch 5:  Loss:     0.5296 Validation Accuracy: 0.641600\n",
      "Epoch 20, CIFAR-10 Batch 1:  Loss:     0.5176 Validation Accuracy: 0.641000\n",
      "Epoch 20, CIFAR-10 Batch 2:  Loss:     0.3891 Validation Accuracy: 0.640800\n",
      "Epoch 20, CIFAR-10 Batch 3:  Loss:     0.4423 Validation Accuracy: 0.633600\n",
      "Epoch 20, CIFAR-10 Batch 4:  Loss:     0.4600 Validation Accuracy: 0.643000\n",
      "Epoch 20, CIFAR-10 Batch 5:  Loss:     0.4716 Validation Accuracy: 0.655400\n",
      "Epoch 21, CIFAR-10 Batch 1:  Loss:     0.4980 Validation Accuracy: 0.648200\n",
      "Epoch 21, CIFAR-10 Batch 2:  Loss:     0.4016 Validation Accuracy: 0.641000\n",
      "Epoch 21, CIFAR-10 Batch 3:  Loss:     0.4126 Validation Accuracy: 0.627400\n",
      "Epoch 21, CIFAR-10 Batch 4:  Loss:     0.4358 Validation Accuracy: 0.654400\n",
      "Epoch 21, CIFAR-10 Batch 5:  Loss:     0.4475 Validation Accuracy: 0.652200\n",
      "Epoch 22, CIFAR-10 Batch 1:  Loss:     0.5036 Validation Accuracy: 0.649000\n",
      "Epoch 22, CIFAR-10 Batch 2:  Loss:     0.3970 Validation Accuracy: 0.639400\n",
      "Epoch 22, CIFAR-10 Batch 3:  Loss:     0.3464 Validation Accuracy: 0.643200\n",
      "Epoch 22, CIFAR-10 Batch 4:  Loss:     0.4033 Validation Accuracy: 0.656800\n",
      "Epoch 22, CIFAR-10 Batch 5:  Loss:     0.4359 Validation Accuracy: 0.653200\n",
      "Epoch 23, CIFAR-10 Batch 1:  Loss:     0.4336 Validation Accuracy: 0.652000\n",
      "Epoch 23, CIFAR-10 Batch 2:  Loss:     0.3397 Validation Accuracy: 0.649800\n",
      "Epoch 23, CIFAR-10 Batch 3:  Loss:     0.3642 Validation Accuracy: 0.634600\n",
      "Epoch 23, CIFAR-10 Batch 4:  Loss:     0.4217 Validation Accuracy: 0.646000\n",
      "Epoch 23, CIFAR-10 Batch 5:  Loss:     0.4133 Validation Accuracy: 0.651800\n",
      "Epoch 24, CIFAR-10 Batch 1:  Loss:     0.4694 Validation Accuracy: 0.653200\n",
      "Epoch 24, CIFAR-10 Batch 2:  Loss:     0.3531 Validation Accuracy: 0.651600\n",
      "Epoch 24, CIFAR-10 Batch 3:  Loss:     0.3435 Validation Accuracy: 0.633600\n",
      "Epoch 24, CIFAR-10 Batch 4:  Loss:     0.3718 Validation Accuracy: 0.651600\n",
      "Epoch 24, CIFAR-10 Batch 5:  Loss:     0.4039 Validation Accuracy: 0.662600\n",
      "Epoch 25, CIFAR-10 Batch 1:  Loss:     0.4270 Validation Accuracy: 0.660200\n",
      "Epoch 25, CIFAR-10 Batch 2:  Loss:     0.3475 Validation Accuracy: 0.661400\n",
      "Epoch 25, CIFAR-10 Batch 3:  Loss:     0.3266 Validation Accuracy: 0.632600\n",
      "Epoch 25, CIFAR-10 Batch 4:  Loss:     0.3869 Validation Accuracy: 0.642400\n",
      "Epoch 25, CIFAR-10 Batch 5:  Loss:     0.3910 Validation Accuracy: 0.655600\n",
      "Epoch 26, CIFAR-10 Batch 1:  Loss:     0.3806 Validation Accuracy: 0.661600\n",
      "Epoch 26, CIFAR-10 Batch 2:  Loss:     0.3236 Validation Accuracy: 0.668600\n",
      "Epoch 26, CIFAR-10 Batch 3:  Loss:     0.3131 Validation Accuracy: 0.644800\n",
      "Epoch 26, CIFAR-10 Batch 4:  Loss:     0.3475 Validation Accuracy: 0.656200\n",
      "Epoch 26, CIFAR-10 Batch 5:  Loss:     0.3690 Validation Accuracy: 0.659200\n",
      "Epoch 27, CIFAR-10 Batch 1:  Loss:     0.3883 Validation Accuracy: 0.657800\n",
      "Epoch 27, CIFAR-10 Batch 2:  Loss:     0.3813 Validation Accuracy: 0.658000\n",
      "Epoch 27, CIFAR-10 Batch 3:  Loss:     0.3187 Validation Accuracy: 0.636800\n",
      "Epoch 27, CIFAR-10 Batch 4:  Loss:     0.3509 Validation Accuracy: 0.655600\n",
      "Epoch 27, CIFAR-10 Batch 5:  Loss:     0.3493 Validation Accuracy: 0.659000\n",
      "Epoch 28, CIFAR-10 Batch 1:  Loss:     0.4068 Validation Accuracy: 0.659000\n",
      "Epoch 28, CIFAR-10 Batch 2:  Loss:     0.3257 Validation Accuracy: 0.666000\n",
      "Epoch 28, CIFAR-10 Batch 3:  Loss:     0.2929 Validation Accuracy: 0.636800\n",
      "Epoch 28, CIFAR-10 Batch 4:  Loss:     0.3062 Validation Accuracy: 0.665000\n",
      "Epoch 28, CIFAR-10 Batch 5:  Loss:     0.3364 Validation Accuracy: 0.654800\n",
      "Epoch 29, CIFAR-10 Batch 1:  Loss:     0.3629 Validation Accuracy: 0.664600\n",
      "Epoch 29, CIFAR-10 Batch 2:  Loss:     0.3944 Validation Accuracy: 0.656400\n",
      "Epoch 29, CIFAR-10 Batch 3:  Loss:     0.2743 Validation Accuracy: 0.653000\n",
      "Epoch 29, CIFAR-10 Batch 4:  Loss:     0.3068 Validation Accuracy: 0.664000\n",
      "Epoch 29, CIFAR-10 Batch 5:  Loss:     0.3074 Validation Accuracy: 0.657400\n",
      "Epoch 30, CIFAR-10 Batch 1:  Loss:     0.3594 Validation Accuracy: 0.666200\n",
      "Epoch 30, CIFAR-10 Batch 2:  Loss:     0.3007 Validation Accuracy: 0.669400\n",
      "Epoch 30, CIFAR-10 Batch 3:  Loss:     0.2581 Validation Accuracy: 0.657000\n",
      "Epoch 30, CIFAR-10 Batch 4:  Loss:     0.3008 Validation Accuracy: 0.661600\n",
      "Epoch 30, CIFAR-10 Batch 5:  Loss:     0.2828 Validation Accuracy: 0.668200\n",
      "Epoch 31, CIFAR-10 Batch 1:  Loss:     0.3586 Validation Accuracy: 0.662800\n",
      "Epoch 31, CIFAR-10 Batch 2:  Loss:     0.2879 Validation Accuracy: 0.674600\n",
      "Epoch 31, CIFAR-10 Batch 3:  Loss:     0.2557 Validation Accuracy: 0.660800\n",
      "Epoch 31, CIFAR-10 Batch 4:  Loss:     0.2939 Validation Accuracy: 0.668600\n",
      "Epoch 31, CIFAR-10 Batch 5:  Loss:     0.2686 Validation Accuracy: 0.661400\n",
      "Epoch 32, CIFAR-10 Batch 1:  Loss:     0.3506 Validation Accuracy: 0.670200\n",
      "Epoch 32, CIFAR-10 Batch 2:  Loss:     0.3054 Validation Accuracy: 0.663800\n",
      "Epoch 32, CIFAR-10 Batch 3:  Loss:     0.2706 Validation Accuracy: 0.655400\n",
      "Epoch 32, CIFAR-10 Batch 4:  Loss:     0.2658 Validation Accuracy: 0.666800\n",
      "Epoch 32, CIFAR-10 Batch 5:  Loss:     0.2424 Validation Accuracy: 0.673800\n",
      "Epoch 33, CIFAR-10 Batch 1:  Loss:     0.3819 Validation Accuracy: 0.663200\n",
      "Epoch 33, CIFAR-10 Batch 2:  Loss:     0.2986 Validation Accuracy: 0.667000\n",
      "Epoch 33, CIFAR-10 Batch 3:  Loss:     0.2276 Validation Accuracy: 0.659200\n",
      "Epoch 33, CIFAR-10 Batch 4:  Loss:     0.2475 Validation Accuracy: 0.672200\n",
      "Epoch 33, CIFAR-10 Batch 5:  Loss:     0.2352 Validation Accuracy: 0.664000\n",
      "Epoch 34, CIFAR-10 Batch 1:  Loss:     0.3272 Validation Accuracy: 0.667200\n",
      "Epoch 34, CIFAR-10 Batch 2:  Loss:     0.2794 Validation Accuracy: 0.665400\n",
      "Epoch 34, CIFAR-10 Batch 3:  Loss:     0.2108 Validation Accuracy: 0.656000\n",
      "Epoch 34, CIFAR-10 Batch 4:  Loss:     0.2874 Validation Accuracy: 0.663800\n",
      "Epoch 34, CIFAR-10 Batch 5:  Loss:     0.2594 Validation Accuracy: 0.663600\n",
      "Epoch 35, CIFAR-10 Batch 1:  Loss:     0.3398 Validation Accuracy: 0.664400\n",
      "Epoch 35, CIFAR-10 Batch 2:  Loss:     0.2898 Validation Accuracy: 0.676800\n",
      "Epoch 35, CIFAR-10 Batch 3:  Loss:     0.2331 Validation Accuracy: 0.659400\n",
      "Epoch 35, CIFAR-10 Batch 4:  Loss:     0.2546 Validation Accuracy: 0.666400\n",
      "Epoch 35, CIFAR-10 Batch 5:  Loss:     0.2522 Validation Accuracy: 0.670400\n",
      "Epoch 36, CIFAR-10 Batch 1:  Loss:     0.3496 Validation Accuracy: 0.665800\n",
      "Epoch 36, CIFAR-10 Batch 2:  Loss:     0.2617 Validation Accuracy: 0.669200\n",
      "Epoch 36, CIFAR-10 Batch 3:  Loss:     0.2140 Validation Accuracy: 0.657800\n",
      "Epoch 36, CIFAR-10 Batch 4:  Loss:     0.2555 Validation Accuracy: 0.669400\n",
      "Epoch 36, CIFAR-10 Batch 5:  Loss:     0.2409 Validation Accuracy: 0.674200\n",
      "Epoch 37, CIFAR-10 Batch 1:  Loss:     0.2980 Validation Accuracy: 0.670200\n",
      "Epoch 37, CIFAR-10 Batch 2:  Loss:     0.2711 Validation Accuracy: 0.673800\n",
      "Epoch 37, CIFAR-10 Batch 3:  Loss:     0.2095 Validation Accuracy: 0.657200\n",
      "Epoch 37, CIFAR-10 Batch 4:  Loss:     0.2190 Validation Accuracy: 0.676600\n",
      "Epoch 37, CIFAR-10 Batch 5:  Loss:     0.2424 Validation Accuracy: 0.673600\n",
      "Epoch 38, CIFAR-10 Batch 1:  Loss:     0.3147 Validation Accuracy: 0.674600\n",
      "Epoch 38, CIFAR-10 Batch 2:  Loss:     0.2660 Validation Accuracy: 0.667600\n",
      "Epoch 38, CIFAR-10 Batch 3:  Loss:     0.2048 Validation Accuracy: 0.665000\n",
      "Epoch 38, CIFAR-10 Batch 4:  Loss:     0.2268 Validation Accuracy: 0.669800\n",
      "Epoch 38, CIFAR-10 Batch 5:  Loss:     0.2200 Validation Accuracy: 0.675600\n",
      "Epoch 39, CIFAR-10 Batch 1:  Loss:     0.3160 Validation Accuracy: 0.675000\n",
      "Epoch 39, CIFAR-10 Batch 2:  Loss:     0.2736 Validation Accuracy: 0.662000\n",
      "Epoch 39, CIFAR-10 Batch 3:  Loss:     0.1996 Validation Accuracy: 0.666400\n",
      "Epoch 39, CIFAR-10 Batch 4:  Loss:     0.2465 Validation Accuracy: 0.669600\n",
      "Epoch 39, CIFAR-10 Batch 5:  Loss:     0.2058 Validation Accuracy: 0.676400\n",
      "Epoch 40, CIFAR-10 Batch 1:  Loss:     0.2957 Validation Accuracy: 0.674600\n",
      "Epoch 40, CIFAR-10 Batch 2:  Loss:     0.2442 Validation Accuracy: 0.674600\n",
      "Epoch 40, CIFAR-10 Batch 3:  Loss:     0.2176 Validation Accuracy: 0.671000\n",
      "Epoch 40, CIFAR-10 Batch 4:  Loss:     0.2193 Validation Accuracy: 0.668200\n",
      "Epoch 40, CIFAR-10 Batch 5:  Loss:     0.2057 Validation Accuracy: 0.681400\n",
      "Epoch 41, CIFAR-10 Batch 1:  Loss:     0.2802 Validation Accuracy: 0.674800\n",
      "Epoch 41, CIFAR-10 Batch 2:  Loss:     0.2212 Validation Accuracy: 0.677600\n",
      "Epoch 41, CIFAR-10 Batch 3:  Loss:     0.2035 Validation Accuracy: 0.668800\n",
      "Epoch 41, CIFAR-10 Batch 4:  Loss:     0.2338 Validation Accuracy: 0.671200\n",
      "Epoch 41, CIFAR-10 Batch 5:  Loss:     0.1863 Validation Accuracy: 0.673000\n",
      "Epoch 42, CIFAR-10 Batch 1:  Loss:     0.2667 Validation Accuracy: 0.668800\n",
      "Epoch 42, CIFAR-10 Batch 2:  Loss:     0.2199 Validation Accuracy: 0.668600\n",
      "Epoch 42, CIFAR-10 Batch 3:  Loss:     0.1914 Validation Accuracy: 0.664000\n",
      "Epoch 42, CIFAR-10 Batch 4:  Loss:     0.2454 Validation Accuracy: 0.667000\n",
      "Epoch 42, CIFAR-10 Batch 5:  Loss:     0.1956 Validation Accuracy: 0.677000\n",
      "Epoch 43, CIFAR-10 Batch 1:  Loss:     0.2850 Validation Accuracy: 0.666800\n",
      "Epoch 43, CIFAR-10 Batch 2:  Loss:     0.2215 Validation Accuracy: 0.668200\n",
      "Epoch 43, CIFAR-10 Batch 3:  Loss:     0.1934 Validation Accuracy: 0.669000\n",
      "Epoch 43, CIFAR-10 Batch 4:  Loss:     0.2241 Validation Accuracy: 0.668000\n",
      "Epoch 43, CIFAR-10 Batch 5:  Loss:     0.1786 Validation Accuracy: 0.678000\n",
      "Epoch 44, CIFAR-10 Batch 1:  Loss:     0.2787 Validation Accuracy: 0.675200\n",
      "Epoch 44, CIFAR-10 Batch 2:  Loss:     0.2148 Validation Accuracy: 0.673200\n",
      "Epoch 44, CIFAR-10 Batch 3:  Loss:     0.1877 Validation Accuracy: 0.662800\n",
      "Epoch 44, CIFAR-10 Batch 4:  Loss:     0.2182 Validation Accuracy: 0.669400\n",
      "Epoch 44, CIFAR-10 Batch 5:  Loss:     0.1941 Validation Accuracy: 0.680600\n",
      "Epoch 45, CIFAR-10 Batch 1:  Loss:     0.2834 Validation Accuracy: 0.668800\n",
      "Epoch 45, CIFAR-10 Batch 2:  Loss:     0.2084 Validation Accuracy: 0.676600\n",
      "Epoch 45, CIFAR-10 Batch 3:  Loss:     0.1973 Validation Accuracy: 0.659600\n",
      "Epoch 45, CIFAR-10 Batch 4:  Loss:     0.2051 Validation Accuracy: 0.667400\n",
      "Epoch 45, CIFAR-10 Batch 5:  Loss:     0.1833 Validation Accuracy: 0.679600\n",
      "Epoch 46, CIFAR-10 Batch 1:  Loss:     0.2628 Validation Accuracy: 0.671800\n",
      "Epoch 46, CIFAR-10 Batch 2:  Loss:     0.2062 Validation Accuracy: 0.669200\n",
      "Epoch 46, CIFAR-10 Batch 3:  Loss:     0.2076 Validation Accuracy: 0.664800\n",
      "Epoch 46, CIFAR-10 Batch 4:  Loss:     0.2384 Validation Accuracy: 0.669400\n",
      "Epoch 46, CIFAR-10 Batch 5:  Loss:     0.2033 Validation Accuracy: 0.675600\n",
      "Epoch 47, CIFAR-10 Batch 1:  Loss:     0.2730 Validation Accuracy: 0.678600\n",
      "Epoch 47, CIFAR-10 Batch 2:  Loss:     0.2204 Validation Accuracy: 0.674800\n",
      "Epoch 47, CIFAR-10 Batch 3:  Loss:     0.1919 Validation Accuracy: 0.667400\n",
      "Epoch 47, CIFAR-10 Batch 4:  Loss:     0.2024 Validation Accuracy: 0.668800\n",
      "Epoch 47, CIFAR-10 Batch 5:  Loss:     0.1777 Validation Accuracy: 0.677200\n",
      "Epoch 48, CIFAR-10 Batch 1:  Loss:     0.3005 Validation Accuracy: 0.655600\n",
      "Epoch 48, CIFAR-10 Batch 2:  Loss:     0.2160 Validation Accuracy: 0.668400\n",
      "Epoch 48, CIFAR-10 Batch 3:  Loss:     0.1822 Validation Accuracy: 0.677000\n",
      "Epoch 48, CIFAR-10 Batch 4:  Loss:     0.1890 Validation Accuracy: 0.676800\n",
      "Epoch 48, CIFAR-10 Batch 5:  Loss:     0.1706 Validation Accuracy: 0.676000\n",
      "Epoch 49, CIFAR-10 Batch 1:  Loss:     0.2362 Validation Accuracy: 0.674000\n",
      "Epoch 49, CIFAR-10 Batch 2:  Loss:     0.1993 Validation Accuracy: 0.666200\n",
      "Epoch 49, CIFAR-10 Batch 3:  Loss:     0.1953 Validation Accuracy: 0.674800\n",
      "Epoch 49, CIFAR-10 Batch 4:  Loss:     0.1894 Validation Accuracy: 0.674800\n",
      "Epoch 49, CIFAR-10 Batch 5:  Loss:     0.1899 Validation Accuracy: 0.673800\n",
      "Epoch 50, CIFAR-10 Batch 1:  Loss:     0.2545 Validation Accuracy: 0.663000\n",
      "Epoch 50, CIFAR-10 Batch 2:  Loss:     0.2048 Validation Accuracy: 0.678000\n",
      "Epoch 50, CIFAR-10 Batch 3:  Loss:     0.1895 Validation Accuracy: 0.671600\n",
      "Epoch 50, CIFAR-10 Batch 4:  Loss:     0.1966 Validation Accuracy: 0.678400\n",
      "Epoch 50, CIFAR-10 Batch 5:  Loss:     0.1661 Validation Accuracy: 0.675800\n"
     ]
    }
   ],
   "source": [
    "\"\"\"\n",
    "DON'T MODIFY ANYTHING IN THIS CELL\n",
    "\"\"\"\n",
    "save_model_path = './image_classification'\n",
    "\n",
    "print('Training...')\n",
    "with tf.Session() as sess:\n",
    "    # Initializing the variables\n",
    "    sess.run(tf.global_variables_initializer())\n",
    "    \n",
    "    # Training cycle\n",
    "    for epoch in range(epochs):\n",
    "        # Loop over all batches\n",
    "        n_batches = 5\n",
    "        for batch_i in range(1, n_batches + 1):\n",
    "            for batch_features, batch_labels in helper.load_preprocess_training_batch(batch_i, batch_size):\n",
    "                train_neural_network(sess, optimizer, keep_probability, batch_features, batch_labels)\n",
    "            print('Epoch {:>2}, CIFAR-10 Batch {}:  '.format(epoch + 1, batch_i), end='')\n",
    "            print_stats(sess, batch_features, batch_labels, cost, accuracy)\n",
    "            \n",
    "    # Save Model\n",
    "    saver = tf.train.Saver()\n",
    "    save_path = saver.save(sess, save_model_path)"
   ]
  },
  {
   "cell_type": "markdown",
   "metadata": {
    "deletable": true,
    "editable": true
   },
   "source": [
    "# Checkpoint\n",
    "The model has been saved to disk.\n",
    "## Test Model\n",
    "Test your model against the test dataset.  This will be your final accuracy. You should have an accuracy greater than 50%. If you don't, keep tweaking the model architecture and parameters."
   ]
  },
  {
   "cell_type": "code",
   "execution_count": 12,
   "metadata": {
    "collapsed": false,
    "deletable": true,
    "editable": true
   },
   "outputs": [
    {
     "name": "stdout",
     "output_type": "stream",
     "text": [
      "Testing Accuracy: 0.66982421875\n",
      "\n"
     ]
    },
    {
     "data": {
      "image/png": "[encoded data removed]",
      "text/plain": [
       "<matplotlib.figure.Figure at 0x26892093198>"
      ]
     },
     "metadata": {
      "image/png": {
       "height": 319,
       "width": 355
      }
     },
     "output_type": "display_data"
    }
   ],
   "source": [
    "\"\"\"\n",
    "DON'T MODIFY ANYTHING IN THIS CELL\n",
    "\"\"\"\n",
    "%matplotlib inline\n",
    "%config InlineBackend.figure_format = 'retina'\n",
    "\n",
    "import tensorflow as tf\n",
    "import pickle\n",
    "import helper\n",
    "import random\n",
    "\n",
    "# Set batch size if not already set\n",
    "try:\n",
    "    if batch_size:\n",
    "        pass\n",
    "except NameError:\n",
    "    batch_size = 64\n",
    "\n",
    "save_model_path = './image_classification'\n",
    "n_samples = 4\n",
    "top_n_predictions = 3\n",
    "\n",
    "def test_model():\n",
    "    \"\"\"\n",
    "    Test the saved model against the test dataset\n",
    "    \"\"\"\n",
    "\n",
    "    test_features, test_labels = pickle.load(open('preprocess_training.p', mode='rb'))\n",
    "    loaded_graph = tf.Graph()\n",
    "\n",
    "    with tf.Session(graph=loaded_graph) as sess:\n",
    "        # Load model\n",
    "        loader = tf.train.import_meta_graph(save_model_path + '.meta')\n",
    "        loader.restore(sess, save_model_path)\n",
    "\n",
    "        # Get Tensors from loaded model\n",
    "        loaded_x = loaded_graph.get_tensor_by_name('x:0')\n",
    "        loaded_y = loaded_graph.get_tensor_by_name('y:0')\n",
    "        loaded_keep_prob = loaded_graph.get_tensor_by_name('keep_prob:0')\n",
    "        loaded_logits = loaded_graph.get_tensor_by_name('logits:0')\n",
    "        loaded_acc = loaded_graph.get_tensor_by_name('accuracy:0')\n",
    "        \n",
    "        # Get accuracy in batches for memory limitations\n",
    "        test_batch_acc_total = 0\n",
    "        test_batch_count = 0\n",
    "        \n",
    "        for train_feature_batch, train_label_batch in helper.batch_features_labels(test_features, test_labels, batch_size):\n",
    "            test_batch_acc_total += sess.run(\n",
    "                loaded_acc,\n",
    "                feed_dict={loaded_x: train_feature_batch, loaded_y: train_label_batch, loaded_keep_prob: 1.0})\n",
    "            test_batch_count += 1\n",
    "\n",
    "        print('Testing Accuracy: {}\\n'.format(test_batch_acc_total/test_batch_count))\n",
    "\n",
    "        # Print Random Samples\n",
    "        random_test_features, random_test_labels = tuple(zip(*random.sample(list(zip(test_features, test_labels)), n_samples)))\n",
    "        random_test_predictions = sess.run(\n",
    "            tf.nn.top_k(tf.nn.softmax(loaded_logits), top_n_predictions),\n",
    "            feed_dict={loaded_x: random_test_features, loaded_y: random_test_labels, loaded_keep_prob: 1.0})\n",
    "        helper.display_image_predictions(random_test_features, random_test_labels, random_test_predictions)\n",
    "\n",
    "\n",
    "test_model()"
   ]
  },
  {
   "cell_type": "markdown",
   "metadata": {
    "deletable": true,
    "editable": true
   },
   "source": [
    "## Why 50-70% Accuracy?\n",
    "You might be wondering why you can't get an accuracy any higher. First things first, 50% isn't bad for a simple CNN.  Pure guessing would get you 10% accuracy. However, you might notice people are getting scores [well above 70%](http://rodrigob.github.io/are_we_there_yet/build/classification_datasets_results.html#43494641522d3130).  That's because we haven't taught you all there is to know about neural networks. We still need to cover a few more techniques.\n",
    "## Submitting This Project\n",
    "When submitting this project, make sure to run all the cells before saving the notebook.  Save the notebook file as \"dlnd_image_classification.ipynb\" and save it as a HTML file under \"File\" -> \"Download as\".  Include the \"helper.py\" and \"problem_unittests.py\" files in your submission."
   ]
  }
 ],
 "metadata": {
  "kernelspec": {
   "display_name": "Python 3",
   "language": "python",
   "name": "python3"
  },
  "language_info": {
   "codemirror_mode": {
    "name": "ipython",
    "version": 3
   },
   "file_extension": ".py",
   "mimetype": "text/x-python",
   "name": "python",
   "nbconvert_exporter": "python",
   "pygments_lexer": "ipython3",
   "version": "3.5.3"
  }
 },
 "nbformat": 4,
 "nbformat_minor": 0
}
